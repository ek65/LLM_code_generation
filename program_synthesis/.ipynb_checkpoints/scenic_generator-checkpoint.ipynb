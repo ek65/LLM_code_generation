{
 "cells": [
  {
   "cell_type": "code",
   "execution_count": 1,
   "id": "89623ff1-51a4-4e00-bcab-4deadbd6a3d7",
   "metadata": {},
   "outputs": [],
   "source": [
    "from scenic_generator import *"
   ]
  },
  {
   "cell_type": "markdown",
   "id": "e761ff77-e68c-44a3-9853-5c1225915dbf",
   "metadata": {},
   "source": [
    "## Download the json from google cloud and syntheisze scenic program"
   ]
  },
  {
   "cell_type": "markdown",
   "id": "64ff0de8",
   "metadata": {},
   "source": [
    "#### First exercise \n",
    "This will create a scenic program in program_sythesis/scenic_output/exercise1.scenic from two json that retriveed from google cloud"
   ]
  },
  {
   "cell_type": "code",
   "execution_count": null,
   "id": "24148dcd-0896-4ee9-ae6b-940b5f34d78e",
   "metadata": {
    "scrolled": true
   },
   "outputs": [
    {
     "name": "stdout",
     "output_type": "stream",
     "text": [
      "Merged data saved to json/exercise1.json\n",
      "DOWNLOAD SUCCESS: exercise1.json saved to json/exercise1.json\n",
      "Generating Scenic program /Users/edward_kim/Desktop/AuthorExercise/program_synthesis/json/exercise1.json\n"
     ]
    }
   ],
   "source": [
    "# download_and_merge_json(\"exercise1.json\", \"json/exercise1.json\", merge = True)\n",
    "download_and_merge_json(\"exercise1.json\", \"json/exercise1.json\")\n",
    "generate_scenic_program(\"exercise1\")"
   ]
  },
  {
   "cell_type": "markdown",
   "id": "79bda5c4",
   "metadata": {},
   "source": [
    "### Second exercise\n",
    "This will create a Scenic program in program_synthesis/scenic_output/exercise1.scenic from two JSON files retrieved from Google Cloud."
   ]
  },
  {
   "cell_type": "code",
   "execution_count": 8,
   "id": "75768bfc",
   "metadata": {},
   "outputs": [
    {
     "name": "stdout",
     "output_type": "stream",
     "text": [
      "Merged data saved to json/exercise2.json\n",
      "DOWNLOAD SUCCESS: exercise2.json saved to json/exercise2.json\n",
      "Generating Scenic program /Users/edward_kim/Desktop/AuthorExercise/program_synthesis/json/exercise2.json\n",
      "Done generating Scenic program\n"
     ]
    }
   ],
   "source": [
    "download_and_merge_json(\"exercise2.json\", \"json/exercise2.json\", merge = True)\n",
    "generate_scenic_program(\"exercise2\")"
   ]
  },
  {
   "cell_type": "markdown",
   "id": "1d514bc4-9113-4abc-a7be-d59c2ade7be9",
   "metadata": {},
   "source": [
    "## Create scenic programs report\n"
   ]
  },
  {
   "cell_type": "markdown",
   "id": "9f335714-c96e-4ce9-920b-0b990bc9919d",
   "metadata": {},
   "source": [
    "#### First exercise report\n",
    "Replace file_name with the log file name in program_synthesis/logs/{file_name}.json. It should include only the name of the file, without the extension."
   ]
  },
  {
   "cell_type": "code",
   "execution_count": 7,
   "id": "b032e119-6474-41b8-a7b4-bff440369bca",
   "metadata": {},
   "outputs": [
    {
     "name": "stdout",
     "output_type": "stream",
     "text": [
      "payload: {'Exercise Step': ['Sit upright at the table with your right arm resting comfortably on the surface.', 'Place your right hand palm-down or neutral on the table.', 'Slowly slide your right hand forward, straightening your elbow as much as is comfortable.', 'Pause briefly', 'Then slide your hand back toward your body, bending the elbow.', 'Repeat the forward and backward movement 3-5 times in a smooth, controlled manner.', 'Rest your right arm.'], 'Successful Instructions': [True, True, False, True, False, False, False], 'Failed Instructions': [False, False, True, False, True, False, False], 'Omitted Instructions': [False, False, False, False, False, True, True], 'Duration of Completion': [5.482465028762817, 6.585920095443726, 15.530318021774292, 3.7365570068359375, 15.631963968276978, 0, 0], 'Pain': [False, '', '', '/10'], 'Fatigue': [False, ''], 'Dizziness': [False, ''], 'Pain Detection': [False, '', '', '/10']}\n",
      "Response: {\"message\":\"JSON data uploaded to GCS!\",\"file_id\":\"report1\"}\n"
     ]
    }
   ],
   "source": [
    "file_name = \"slide_right_hand\"\n",
    "generate_and_upload_report(file_name, \"report1\")\n"
   ]
  },
  {
   "cell_type": "markdown",
   "id": "ddeb59f0-4422-4d17-8e99-978bd3625cd8",
   "metadata": {},
   "source": [
    "#### Second exercise report"
   ]
  },
  {
   "cell_type": "code",
   "execution_count": 9,
   "id": "4cf10aba-0c77-4bb5-b0d2-b1b0909701d1",
   "metadata": {},
   "outputs": [
    {
     "name": "stdout",
     "output_type": "stream",
     "text": [
      "payload: {'Exercise Step': ['Start by stacking the cup labeled #1 on top of the cup labeled #2, using your right hand.', 'Then, using your right hand, stack cup #3 on top of cup #2.', 'Once you are done, return your hands to resting on the table.'], 'Successful Instructions': [False, False, True], 'Failed Instructions': [True, True, False], 'Omitted Instructions': [False, False, False], 'Duration of Completion': [15.565637111663818, 15.619287729263306, 4.581992864608765], 'Pain': [True, 'right elbow', 'pain felt while lifting cups', '3/10'], 'Fatigue': [False, ''], 'Dizziness': [False, ''], 'Pain Detection': [True, 'right elbow', 'pain felt while lifting cups', '3/10']}\n",
      "Response: {\"message\":\"JSON data uploaded to GCS!\",\"file_id\":\"report2\"}\n"
     ]
    }
   ],
   "source": [
    "file_name = \"stack_cups\"\n",
    "generate_and_upload_report(file_name, \"report2\")\n"
   ]
  },
  {
   "cell_type": "code",
   "execution_count": null,
   "id": "70f1c4ee-2ecb-4e62-bd8b-f89b5d9f9f2f",
   "metadata": {},
   "outputs": [],
   "source": []
  }
 ],
 "metadata": {
  "kernelspec": {
   "display_name": "Python 3 (ipykernel)",
   "language": "python",
   "name": "python3"
  },
  "language_info": {
   "codemirror_mode": {
    "name": "ipython",
    "version": 3
   },
   "file_extension": ".py",
   "mimetype": "text/x-python",
   "name": "python",
   "nbconvert_exporter": "python",
   "pygments_lexer": "ipython3",
   "version": "3.10.6"
  }
 },
 "nbformat": 4,
 "nbformat_minor": 5
}
