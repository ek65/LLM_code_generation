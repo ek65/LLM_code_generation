{
 "cells": [
  {
   "cell_type": "code",
   "execution_count": 1,
   "id": "89623ff1-51a4-4e00-bcab-4deadbd6a3d7",
   "metadata": {},
   "outputs": [],
   "source": [
    "import json\n",
    "import re         \n",
    "import requests \n",
    "from scenic_writer import *\n",
    "\n",
    "\n",
    "def summarize_logs(logs_dict):\n",
    "    summary = {\n",
    "        \"Exercise Step\":           [],\n",
    "        \"Successful Instructions\": [],\n",
    "        \"Failed Instructions\":     [],\n",
    "        \"Omitted Instructions\":    [],\n",
    "        \"Duration of Completion\":  []\n",
    "    }\n",
    "    \n",
    "    num_key_pattern = re.compile(r\"^\\d+$\")  \n",
    "    \n",
    "    for k in sorted(\n",
    "            (key for key in logs_dict if num_key_pattern.match(key)),\n",
    "            key=lambda x: int(x)):\n",
    "        \n",
    "        rec         = logs_dict[k]\n",
    "        instr       = rec.get(\"Instruction\", \"\")\n",
    "        time_taken  = rec.get(\"Time_Taken\", 0)\n",
    "        complete    = rec.get(\"Completeness\", False)\n",
    "        \n",
    "        summary[\"Exercise Step\"].append(instr)\n",
    "        summary[\"Duration of Completion\"].append(time_taken)\n",
    "        \n",
    "        summary[\"Successful Instructions\"].append(complete)\n",
    "        summary[\"Failed Instructions\"].append(not complete and int(time_taken) != 0)\n",
    "        summary[\"Omitted Instructions\"].append(not complete and int(time_taken) == 0)\n",
    "\n",
    "    \n",
    "    for k, v in logs_dict.items():\n",
    "        if not num_key_pattern.match(k):      \n",
    "            summary[k] = v\n",
    "    if \"Pain\" in logs_dict:\n",
    "        summary[\"Pain Detection\"] = logs_dict[\"Pain\"]\n",
    "    if \"Fatigue\" in logs_dict:\n",
    "        summary[\"Fatigue\"] = logs_dict[\"Fatigue\"]\n",
    "    if \"Dizziness\" in logs_dict:\n",
    "        summary[\"Dizziness\"] = logs_dict[\"Dizziness\"]\n",
    "        \n",
    "    return summary\n",
    "\n",
    "def download_and_merge_json(json_id, save_path):\n",
    "    url = f\"https://caduceus-test-754616842718.us-west1.run.app/download/file/{json_id}/\"\n",
    "    headers = {\n",
    "        \"Accept\": \"application/json\"\n",
    "    }\n",
    "\n",
    "    response = requests.get(url, headers=headers)\n",
    "    \n",
    "    if response.status_code == 200:\n",
    "        try:\n",
    "            # Parse the JSON response\n",
    "            data = response.json()\n",
    "            \n",
    "            # Save the parsed JSON data\n",
    "            with open(save_path, \"w\") as f:\n",
    "                json.dump(data, f, indent=4)\n",
    "            \n",
    "            # merge_with_object_info(\"json/{json_id}.json\", save_path)\n",
    "            print(f\"DOWNLOAD SUCCESS: {json_id} saved to {save_path}\")\n",
    "            return True\n",
    "        except json.JSONDecodeError as e:\n",
    "            print(f\"Error parsing JSON response: {e}\")\n",
    "            return False\n",
    "    else:\n",
    "        print(f\"Failed to download JSON. Status code: {response.status_code}\")\n",
    "        return False\n",
    "    \n",
    "\n",
    "def merge_with_object_info(local_json_path, output_path):\n",
    "    \"\"\"\n",
    "    Download object_info from API and merge it with a local JSON file.\n",
    "    \n",
    "    Args:\n",
    "        local_json_path (str): Path to the local JSON file to merge with object_info\n",
    "        output_path (str): Path where the merged JSON will be saved\n",
    "    \"\"\"\n",
    "    try:\n",
    "        # First download object_info from API\n",
    "        url = \"https://caduceus-test-754616842718.us-west1.run.app/download/file/object_info.json/\"\n",
    "        headers = {\"Accept\": \"application/json\"}\n",
    "        \n",
    "        response = requests.get(url, headers=headers)\n",
    "        if response.status_code != 200:\n",
    "            print(f\"Failed to download object_info. Status code: {response.status_code}\")\n",
    "            return False\n",
    "            \n",
    "        object_info = response.json()\n",
    "        \n",
    "        # Read local JSON file\n",
    "        with open(local_json_path, 'r', encoding='utf-8') as f:\n",
    "            local_data = json.load(f)\n",
    "            \n",
    "        # Merge the data\n",
    "        if isinstance(object_info, dict) and isinstance(local_data, dict):\n",
    "            merged_data = {**local_data, **object_info}  # object_info takes precedence for duplicate keys\n",
    "        else:\n",
    "            raise ValueError(\"Both object_info and local file must contain dictionaries\")\n",
    "            \n",
    "        # Save the merged data\n",
    "        with open(output_path, 'w', encoding='utf-8') as f:\n",
    "            json.dump(merged_data, f, indent=4)\n",
    "            \n",
    "        print(f\"Successfully merged object_info with {local_json_path} into {output_path}\")\n",
    "        return True\n",
    "        \n",
    "    except FileNotFoundError as e:\n",
    "        print(f\"Error: Could not find local JSON file - {e}\")\n",
    "        return False\n",
    "    except json.JSONDecodeError as e:\n",
    "        print(f\"Error: Invalid JSON in local file - {e}\")\n",
    "        return False\n",
    "    except Exception as e:\n",
    "        print(f\"Error during merge: {e}\")\n",
    "        return False\n",
    "\n",
    "\n",
    "\n",
    "def generate_scenic_program(file_name):\n",
    "    current_dir = current_dir = os.getcwd()\n",
    "    parent_dir = os.path.dirname(current_dir)\n",
    "    file_name = \"test\"\n",
    "    json_name = f\"json/{file_name}.json\"\n",
    "    json_file_path = os.path.join(current_dir, json_name)\n",
    "    print(json_file_path)\n",
    "    \n",
    "    with open(os.path.join(current_dir, json_name), 'r') as file:\n",
    "        annotations = json.load(file)\n",
    "        model_file_path = os.path.join(\n",
    "            parent_dir, \"Scenic-main\", \"Scenic\", \"src\", \"scenic\", \"simulators\", \"unity\", \"model.scenic\")\n",
    "        api_file_path = os.path.join(\n",
    "            parent_dir, \"Scenic-main\", \"Scenic\", \"src\", \"scenic\", \"simulators\", \"unity\", \"actions.py\")\n",
    "        save_file_path = os.path.join(current_dir, \"scenic_output\", \"test_429\", f\"{file_name}\" + \".scenic\")\n",
    "        example_scenic_programs_path = os.path.join(current_dir, \"scenic_output\", \"example_scenic_program\")\n",
    "        log_file_path = os.path.join(current_dir, \"logs\", f\"{file_name}\" + \".json\")\n",
    "    \n",
    "        synth = Synth(annotations, \n",
    "                      model_file_path, \n",
    "                      api_file_path,\n",
    "                      example_scenic_programs_path)\n",
    "        program = synth.synthesize()\n",
    "    \n",
    "        with open(save_file_path, 'w') as scenic_file:\n",
    "            scenic_file.write(program)\n",
    "\n",
    "\n",
    "\n"
   ]
  },
  {
   "cell_type": "markdown",
   "id": "e761ff77-e68c-44a3-9853-5c1225915dbf",
   "metadata": {},
   "source": [
    "## Download the json from google cloud"
   ]
  },
  {
   "cell_type": "markdown",
   "id": "64ff0de8",
   "metadata": {},
   "source": [
    "#### First exercise "
   ]
  },
  {
   "cell_type": "code",
   "execution_count": 2,
   "id": "24148dcd-0896-4ee9-ae6b-940b5f34d78e",
   "metadata": {},
   "outputs": [
    {
     "name": "stdout",
     "output_type": "stream",
     "text": [
      "DOWNLOAD SUCCESS: exercise2.json saved to json/exercise2.json\n"
     ]
    },
    {
     "data": {
      "text/plain": [
       "True"
      ]
     },
     "execution_count": 2,
     "metadata": {},
     "output_type": "execute_result"
    }
   ],
   "source": [
    "json_id = \"exercise1.json\"  # Replace this\n",
    "download_and_merge_json(\"exercise1.json\", \"json/exercise1.json\")\n",
    "generate_scenic_program(\"exercise1\")\n"
   ]
  },
  {
   "cell_type": "markdown",
   "id": "79bda5c4",
   "metadata": {},
   "source": [
    "### Second exercise"
   ]
  },
  {
   "cell_type": "code",
   "execution_count": null,
   "id": "75768bfc",
   "metadata": {},
   "outputs": [],
   "source": [
    "download_and_merge_json(\"exercise2.json\", \"json/exercise2.json\")"
   ]
  },
  {
   "cell_type": "markdown",
   "id": "1d514bc4-9113-4abc-a7be-d59c2ade7be9",
   "metadata": {},
   "source": [
    "## Synthesizing program\n"
   ]
  },
  {
   "cell_type": "code",
   "execution_count": 4,
   "id": "593c42c0-53e2-4d0a-a113-a48e6b62d231",
   "metadata": {},
   "outputs": [
    {
     "name": "stdout",
     "output_type": "stream",
     "text": [
      "{'Exercise Step': ['Keep the back of your hand on the table while you bring your thumb to your pinky.', 'Move your thumb to the ring finger, then to the middle finger, and finally to the index finger, stretching out your hand in between fingers.', 'Try to squeeze thumb to finger for three seconds when you touch your thumb to the pinky, ring finger, middle finger, and index finger.', 'Relax after each squeeze.'], 'Successful Instructions': [False, False, False, False], 'Failed Instructions': [True, True, True, True], 'Omitted Instructions': [False, False, False, True], 'Duration of Completion': [73.9337112903595, 28.774165153503418, 26.824862241744995, 0]}\n",
      "None\n"
     ]
    }
   ],
   "source": []
  },
  {
   "cell_type": "code",
   "execution_count": null,
   "id": "b032e119-6474-41b8-a7b4-bff440369bca",
   "metadata": {},
   "outputs": [],
   "source": []
  }
 ],
 "metadata": {
  "kernelspec": {
   "display_name": "Python 3 (ipykernel)",
   "language": "python",
   "name": "python3"
  },
  "language_info": {
   "codemirror_mode": {
    "name": "ipython",
    "version": 3
   },
   "file_extension": ".py",
   "mimetype": "text/x-python",
   "name": "python",
   "nbconvert_exporter": "python",
   "pygments_lexer": "ipython3",
   "version": "3.12.7"
  }
 },
 "nbformat": 4,
 "nbformat_minor": 5
}
