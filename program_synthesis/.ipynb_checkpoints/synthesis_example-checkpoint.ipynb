{
 "cells": [
  {
   "cell_type": "code",
   "execution_count": 7,
   "id": "cad9a444-c313-469b-a33d-4bcc9173fda1",
   "metadata": {},
   "outputs": [
    {
     "name": "stdout",
     "output_type": "stream",
     "text": [
      "The autoreload extension is already loaded. To reload it, use:\n",
      "  %reload_ext autoreload\n"
     ]
    }
   ],
   "source": [
    "%load_ext autoreload\n",
    "%autoreload 2"
   ]
  },
  {
   "cell_type": "code",
   "execution_count": 29,
   "id": "984d3d4e-5e47-41f2-a608-0471650b6146",
   "metadata": {},
   "outputs": [
    {
     "name": "stdout",
     "output_type": "stream",
     "text": [
      "obj_scenic_dict: {'sponge1': 'Sponge', 'box1': 'Box'}\n",
      "metric_api_dict: {'0': 'ObjectGrasped(sponge1)', '1': 'CheckDistance(sponge1, box1)'}\n"
     ]
    }
   ],
   "source": [
    "from scenic_translator import *\n",
    "import json\n",
    "\n",
    "obj_list = ['sponge1', 'box1']\n",
    "setup = {\"sponge1\": (1,2,0), \"box1\": (1,1,2)}\n",
    "instruction = [\"pick up the sponge1\", \"place the sponge1 in the box1 with your stroke side.\"]\n",
    "monitor = [\"sponge1 is picked up by the patient\", \"(2) sponge1 placed in the box1\"]\n",
    "annotations = {\n",
    "    \"setup\": setup,\n",
    "    \"instructions\": instruction,\n",
    "    \"monitor\": monitor\n",
    "}\n",
    "\n",
    "save_file_path = \"./synthesized.scenic\"\n",
    "model_file_path = '/Users/edward_kim/Desktop/AuthorExercise/Scenic-main/Scenic/src/scenic/simulators/unity/model.scenic'\n",
    "api_file_path = '/Users/edward_kim/Desktop/AuthorExercise/Scenic-main/Scenic/src/scenic/simulators/unity/actions.py'\n",
    "\n",
    "synth = Synth(annotations, save_file_path, model_file_path, api_file_path)\n",
    "synth.synthesize()"
   ]
  },
  {
   "cell_type": "code",
   "execution_count": 30,
   "id": "baa3f8cb-552a-4a1e-80c1-45b1831e0d62",
   "metadata": {},
   "outputs": [],
   "source": [
    "\n",
    "# output = obj_model_finder(obj_list, model_file_path)\n",
    "# print(output)\n",
    "# print(api_retriever(monitor, api_file_path))"
   ]
  },
  {
   "cell_type": "code",
   "execution_count": null,
   "id": "66ab7461-c08a-48b1-be8e-bf23867cd615",
   "metadata": {},
   "outputs": [],
   "source": []
  }
 ],
 "metadata": {
  "kernelspec": {
   "display_name": "Python 3 (ipykernel)",
   "language": "python",
   "name": "python3"
  },
  "language_info": {
   "codemirror_mode": {
    "name": "ipython",
    "version": 3
   },
   "file_extension": ".py",
   "mimetype": "text/x-python",
   "name": "python",
   "nbconvert_exporter": "python",
   "pygments_lexer": "ipython3",
   "version": "3.10.6"
  }
 },
 "nbformat": 4,
 "nbformat_minor": 5
}
