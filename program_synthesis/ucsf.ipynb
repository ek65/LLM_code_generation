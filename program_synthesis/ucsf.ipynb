{
 "cells": [
  {
   "cell_type": "code",
   "execution_count": 1,
   "metadata": {},
   "outputs": [],
   "source": [
    "import os\n",
    "import json\n",
    "from scenic_generator import Synth"
   ]
  },
  {
   "cell_type": "code",
   "execution_count": 2,
   "metadata": {},
   "outputs": [],
   "source": [
    "def generate_scenic_program(file_name):\n",
    "    current_dir = current_dir = os.getcwd()\n",
    "    parent_dir = os.path.dirname(current_dir)\n",
    "    json_name = f\"ucsf/json/{file_name}.json\"\n",
    "    json_file_path = os.path.join(current_dir, json_name)\n",
    "    print(\"Generating Scenic program\", json_file_path)\n",
    "    \n",
    "    with open(os.path.join(current_dir, json_name), 'r') as file:\n",
    "        annotations = json.load(file)\n",
    "        model_file_path = os.path.join(\n",
    "            parent_dir, \"Scenic-main\", \"Scenic\", \"src\", \"scenic\", \"simulators\", \"unity\", \"model.scenic\")\n",
    "        api_file_path = os.path.join(\n",
    "            parent_dir, \"Scenic-main\", \"Scenic\", \"src\", \"scenic\", \"simulators\", \"unity\", \"actions.py\")\n",
    "        save_file_path = os.path.join(current_dir, \"ucsf\", \"scenic_output\", f\"{file_name}\" + \".scenic\")\n",
    "        example_scenic_programs_path = os.path.join(current_dir, \"scenic_output\", \"example_scenic_program\")\n",
    "        log_file_path = os.path.join(current_dir, \"logs\", f\"{file_name}\" + \".json\")\n",
    "    \n",
    "        synth = Synth(annotations, \n",
    "                      model_file_path, \n",
    "                      api_file_path,\n",
    "                      example_scenic_programs_path)\n",
    "        program = synth.synthesize()\n",
    "    \n",
    "        with open(save_file_path, 'w') as scenic_file:\n",
    "            scenic_file.write(program)\n",
    "        print(\"Done generating Scenic program\")"
   ]
  },
  {
   "cell_type": "code",
   "execution_count": 5,
   "metadata": {},
   "outputs": [
    {
     "name": "stdout",
     "output_type": "stream",
     "text": [
      "Generating Scenic program /Users/caesarli/Documents/GitHub/AuthorExerciseAndriodOld/program_synthesis/ucsf/json/upper_mouth.json\n",
      "Done generating Scenic program\n"
     ]
    }
   ],
   "source": [
    "generate_scenic_program(\"upper_mouth\")"
   ]
  },
  {
   "cell_type": "code",
   "execution_count": null,
   "metadata": {},
   "outputs": [],
   "source": []
  }
 ],
 "metadata": {
  "kernelspec": {
   "display_name": "Python 3",
   "language": "python",
   "name": "python3"
  },
  "language_info": {
   "codemirror_mode": {
    "name": "ipython",
    "version": 3
   },
   "file_extension": ".py",
   "mimetype": "text/x-python",
   "name": "python",
   "nbconvert_exporter": "python",
   "pygments_lexer": "ipython3",
   "version": "3.12.4"
  }
 },
 "nbformat": 4,
 "nbformat_minor": 2
}
